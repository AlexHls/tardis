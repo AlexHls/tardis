{
 "cells": [
  {
   "cell_type": "markdown",
   "metadata": {},
   "source": [
    "# Converting STELLA Files to be usable by TARDIS"
   ]
  },
  {
   "cell_type": "code",
   "execution_count": null,
   "metadata": {},
   "outputs": [],
   "source": [
    "from tardis.io.parsers import stella\n",
    "from astropy import units as u"
   ]
  },
  {
   "cell_type": "code",
   "execution_count": null,
   "metadata": {},
   "outputs": [],
   "source": [
    "data = stella.read_stella_data('mesa.stella.dat')"
   ]
  },
  {
   "cell_type": "code",
   "execution_count": null,
   "metadata": {},
   "outputs": [],
   "source": [
    "data"
   ]
  },
  {
   "cell_type": "code",
   "execution_count": null,
   "metadata": {},
   "outputs": [],
   "source": [
    "# extract outer radius boundaries \n",
    "radii = data.loc[:,'outer_edge_r'].values * u.cm\n",
    "\n",
    "# calculate t_explosion\n",
    "t_explosion = 50 * u.day #days\n",
    "\n",
    "# calculate outer velocities of each zone assuming homologous expansion (v=r/t) \n",
    "velocities = (radii/t_explosion).to(u.km/u.s) \n",
    "\n",
    "# create a new column of our velocities (OPTIONAL)\n",
    "data['velocity'] = velocities"
   ]
  },
  {
   "cell_type": "code",
   "execution_count": null,
   "metadata": {},
   "outputs": [],
   "source": [
    "density_dat = data[['velocity', 'avg_density']].reset_index(drop=True)\n",
    "density_dat.to_csv('density_parse.csv', sep = ' ')"
   ]
  },
  {
   "cell_type": "code",
   "execution_count": null,
   "metadata": {},
   "outputs": [],
   "source": [
    "# import all elements and isotopes and export to TARDIS\n",
    "data_elements = data.iloc[:,12:33].reset_index(drop=True)\n",
    "data_elements.to_csv('abund_parse.csv', sep = ' ')"
   ]
  },
  {
   "cell_type": "code",
   "execution_count": null,
   "metadata": {},
   "outputs": [],
   "source": [
    "density_dat"
   ]
  },
  {
   "cell_type": "code",
   "execution_count": null,
   "metadata": {},
   "outputs": [],
   "source": [
    "data_elements"
   ]
  }
 ],
 "metadata": {
  "kernelspec": {
   "display_name": "Python 3",
   "language": "python",
   "name": "python3"
  },
  "language_info": {
   "codemirror_mode": {
    "name": "ipython",
    "version": 3
   },
   "file_extension": ".py",
   "mimetype": "text/x-python",
   "name": "python",
   "nbconvert_exporter": "python",
   "pygments_lexer": "ipython3",
   "version": "3.8.8"
  }
 },
 "nbformat": 4,
 "nbformat_minor": 2
}
