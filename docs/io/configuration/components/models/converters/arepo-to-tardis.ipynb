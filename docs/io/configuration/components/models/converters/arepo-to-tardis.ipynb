{
 "cells": [
  {
   "cell_type": "markdown",
   "id": "fb29e5da",
   "metadata": {},
   "source": [
    "# Converting Arepo snapshots to be usable by TARDIS"
   ]
  },
  {
   "cell_type": "code",
   "execution_count": null,
   "id": "d356562f",
   "metadata": {},
   "outputs": [],
   "source": [
    "from tardis.io.parsers import arepo"
   ]
  },
  {
   "cell_type": "markdown",
   "id": "a2daa802",
   "metadata": {},
   "source": [
    "As a first step, the relevant data has to be loaded from an Arepo snapshot. In case you have the arepo-snap-util package installed, you can use the built in wrapper (as described below) to load the relevant data. In case you do not have this package installed or want to load the snapshot in a different way, you can manually provide the relevant data and continue with the next step.\n",
    "\n",
    "If you're using the built-in tool, you will need to provide the path to the snapshot file, a list with the elements you want to include in your Tardis model, as well as the species file with which the Arepo simulation was run."
   ]
  },
  {
   "cell_type": "code",
   "execution_count": null,
   "id": "7f25836a",
   "metadata": {},
   "outputs": [],
   "source": [
    "snapshot = arepo.ArepoSnapshot(\"arepo_snapshot.hdf5\", [\"o16\", \"c12\"], \"species05.txt\")\n",
    "pos, vel, rho, xnuc, time = snapshot.get_grids()\n",
    "print(\"Position data shape: \", pos.shape)\n",
    "print(\"Velocity data shape: \", vel.shape)\n",
    "print(\"Density data shape: \", rho.shape)\n",
    "print(\"Nuclear data shape (per element): \", xnuc[\"o16\"].shape)"
   ]
  },
  {
   "cell_type": "markdown",
   "id": "db1c4826",
   "metadata": {},
   "source": [
    "This will load the necessary from the snapshot. See the API documentation for more options on how to load snapshots.\n",
    "In case you want to load the snapshot data itself with your own tools, you will need to provide the following data:\n",
    "- Position in the center of mass frame (\"pos\") -> `np.array`\n",
    "- Velocity (\"vel\") -> `np.array`\n",
    "- Density (\"rho\") -> `np.array`\n",
    "- Nuclear fraction (\"xnuc\") of each element you want to include -> `dict` containing `np.array`   \n",
    "- Time of the snapshot (\"time\") -> `float`\n",
    "\n",
    "The data is expected to be mapped to a Carthesian grid and should have the same shape as the one provided by the built-in tool."
   ]
  },
  {
   "cell_type": "markdown",
   "id": "a232343a",
   "metadata": {},
   "source": [
    "Now You can create a TARDIS model. There are three possibilities on how to extract the profiles from the snapshot:\n",
    "- **Line profile**: This extracts the data along a straight line (the x-axis) without any averaging\n",
    "- **Cone profile**: This extracts the data within a specified cone *(TBA)*\n",
    "- **Full profile**: This averages over the whole simulation *(TBA)*"
   ]
  },
  {
   "cell_type": "code",
   "execution_count": null,
   "id": "6aa0f961",
   "metadata": {},
   "outputs": [],
   "source": []
  }
 ],
 "metadata": {
  "kernelspec": {
   "display_name": "Python 3",
   "language": "python",
   "name": "python3"
  },
  "language_info": {
   "codemirror_mode": {
    "name": "ipython",
    "version": 3
   },
   "file_extension": ".py",
   "mimetype": "text/x-python",
   "name": "python",
   "nbconvert_exporter": "python",
   "pygments_lexer": "ipython3",
   "version": "3.8.8"
  }
 },
 "nbformat": 4,
 "nbformat_minor": 5
}
