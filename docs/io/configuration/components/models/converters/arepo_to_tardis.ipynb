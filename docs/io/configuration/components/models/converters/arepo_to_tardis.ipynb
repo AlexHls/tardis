{
 "cells": [
  {
   "cell_type": "markdown",
   "id": "c256186f",
   "metadata": {},
   "source": [
    "# Converting Arepo snapshots to be usable by TARDIS"
   ]
  },
  {
   "cell_type": "code",
   "execution_count": null,
   "id": "998d5c4d",
   "metadata": {},
   "outputs": [],
   "source": [
    "from tardis.io.parsers import arepo\n",
    "import json"
   ]
  },
  {
   "cell_type": "markdown",
   "id": "9e2fbaf7",
   "metadata": {},
   "source": [
    "As a first step, the relevant data has to be loaded from an Arepo snapshot. In case you have the arepo-snap-util package installed, you can use the built in wrapper (as described below) to load the relevant data. In case you do not have this package installed or want to load the snapshot in a different way, you can manually provide the relevant data and continue with the next step.\n",
    "\n",
    "If you're using the built-in tool, you will need to provide the path to the snapshot file, a list with the elements you want to include in your Tardis model, as well as the species file with which the Arepo simulation was run."
   ]
  },
  {
   "cell_type": "code",
   "execution_count": null,
   "id": "6d97d9d3",
   "metadata": {},
   "outputs": [],
   "source": [
    "try:\n",
    "    snapshot = arepo.ArepoSnapshot(\"arepo_snapshot.hdf5\", [\"ni56\", \"si28\"], \"species55.txt\", resolution=32)\n",
    "    pos, vel, rho, xnuc, time = snapshot.get_grids()\n",
    "except ImportError:\n",
    "    print(\"Looks like arepo-snap-util is missing!\")"
   ]
  },
  {
   "cell_type": "markdown",
   "id": "49203e1f",
   "metadata": {},
   "source": [
    "This will load the necessary from the snapshot. See the API documentation for more options on how to load snapshots.\n",
    "\n",
    "As you can see, it will fail if you do not have the arepo-snap-util package installed. So lets manually load the data. In this case from a `json` file, where the data which would have been loaded with the function above has been manually saved to."
   ]
  },
  {
   "cell_type": "code",
   "execution_count": null,
   "id": "6da0f3b9",
   "metadata": {},
   "outputs": [],
   "source": [
    "with open('arepo_snapshot.json') as json_file:\n",
    "    data = json.loads(json.load(json_file))\n",
    "    \n",
    "pos, vel, rho, xnuc, time = data[\"pos\"], data[\"vel\"], data[\"rho\"], data[\"xnuc\"], data[\"time\"]\n",
    "\n",
    "print(\"Position data shape: \", pos.shape)\n",
    "print(\"Velocity data shape: \", vel.shape)\n",
    "print(\"Density data shape: \", rho.shape)\n",
    "print(\"Nuclear data shape (per element): \", xnuc[\"ni56\"].shape)"
   ]
  },
  {
   "cell_type": "markdown",
   "id": "76522979",
   "metadata": {},
   "source": [
    "In case you want to load the snapshot data itself with your own tools, you will need to provide the following data:\n",
    "- Position in the center of mass frame (\"pos\") -> `np.array`\n",
    "- Velocity (\"vel\") -> `np.array`\n",
    "- Density (\"rho\") -> `np.array`\n",
    "- Nuclear fraction (\"xnuc\") of each element you want to include -> `dict` containing `np.array`   \n",
    "- Time of the snapshot (\"time\") -> `float`\n",
    "\n",
    "The data is expected to be mapped to a Carthesian grid and should have the same shape as the one provided by the built-in tool."
   ]
  },
  {
   "cell_type": "markdown",
   "id": "bf82ae2e",
   "metadata": {},
   "source": [
    "Now You can create a TARDIS model. There are three possibilities on how to extract the profiles from the snapshot:\n",
    "- **Line profile**: This extracts the data along a straight line (the x-axis) without any averaging\n",
    "- **Cone profile**: This extracts the data within a specified cone *(TBD)*\n",
    "- **Full profile**: This averages over the whole simulation *(TBD)*"
   ]
  },
  {
   "cell_type": "code",
   "execution_count": null,
   "id": "cf051ded",
   "metadata": {},
   "outputs": [],
   "source": [
    "profile = arepo.LineProfile(pos, vel, rho, xnuc, time)"
   ]
  },
  {
   "cell_type": "markdown",
   "id": "ecf7d48d",
   "metadata": {},
   "source": [
    "This loads the data (here for the line profile), which can then be cut to the ranges which you want to include in your TARDIS model. The syntax for the other profiles is similar:\n",
    "- `arepo.ConeProfile(<args>)`\n",
    "- `arepo.FullProfile(<args>)`"
   ]
  },
  {
   "cell_type": "markdown",
   "id": "af9a76e0",
   "metadata": {},
   "source": [
    "Next you can create the profiles acccording to the model option you selected. A diagnostic plot will be shown per default, but this behaviour can be turned off with the option `show_plot=False`."
   ]
  },
  {
   "cell_type": "code",
   "execution_count": null,
   "id": "0aa59e7e",
   "metadata": {},
   "outputs": [],
   "source": [
    "profile.create_profile()"
   ]
  },
  {
   "cell_type": "markdown",
   "id": "d619b5d0",
   "metadata": {},
   "source": [
    "In many cases you only want a very specific region from the snapshot, e.g. cutting out the dense, optically thick regions. This can be acchieved using the keywords `inner_radius` and `outer_radius`."
   ]
  },
  {
   "cell_type": "code",
   "execution_count": null,
   "id": "bd934289",
   "metadata": {},
   "outputs": [],
   "source": [
    "profile.create_profile(inner_radius=1e11, outer_radius=2e11)"
   ]
  },
  {
   "cell_type": "markdown",
   "id": "dd6310ec",
   "metadata": {},
   "source": [
    "Once you have created a profile of the desired region, you can export the profile to a `csvy` file, which in turn can be used in a TARDIS model. Here you have to specify how many shells you want to export. Note that the number of exported shells cannot be larger than the resolution of the given grid since no interpolation on the profile is done. If you want more shells, you either need to map your snapshot to a higher resolution Carthesian grid or interpolate the initial data yourself."
   ]
  },
  {
   "cell_type": "code",
   "execution_count": null,
   "id": "e918835b",
   "metadata": {},
   "outputs": [],
   "source": [
    "profile.export(5, \"snapshot_converted_to_tardis.csvy\")"
   ]
  },
  {
   "cell_type": "markdown",
   "id": "bfad2812",
   "metadata": {},
   "source": [
    "During the export, the `yaml` header is automatically written and includes the time of the screenshot as the time for both the nuclear data as well as the density profile.\n",
    "\n",
    "All abundences will normalised such that roughly sum to 1, but slight deviations are expected to occur.\n",
    "\n",
    "Note that the export function will not overwrite existing files, but rather add an incrementing number to the filename."
   ]
  }
 ],
 "metadata": {
  "kernelspec": {
   "display_name": "Python 3",
   "language": "python",
   "name": "python3"
  },
  "language_info": {
   "codemirror_mode": {
    "name": "ipython",
    "version": 3
   },
   "file_extension": ".py",
   "mimetype": "text/x-python",
   "name": "python",
   "nbconvert_exporter": "python",
   "pygments_lexer": "ipython3",
   "version": "3.8.8"
  }
 },
 "nbformat": 4,
 "nbformat_minor": 5
}
